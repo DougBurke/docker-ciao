{
 "cells": [
  {
   "cell_type": "markdown",
   "metadata": {},
   "source": [
    "# Welcome to CIAO\n",
    "\n",
    "This is a **very** minimal example of the CIAO and Jupyter-notebook configuration in this Docker container."
   ]
  },
  {
   "cell_type": "code",
   "execution_count": 1,
   "metadata": {},
   "outputs": [
    {
     "name": "stdout",
     "output_type": "stream",
     "text": [
      "The current environment is configured for:\n",
      "  CIAO        : CIAO 4.10 Thursday, April 12, 2018\n",
      "  Tools       : Package release 1  Thursday, April 12, 2018\n",
      "  Sherpa      : Package release 1  Thursday, April 12, 2018\n",
      "  Chips       : Not Installed\n",
      "  Prism       : Not Installed\n",
      "  Obsvis      : Not Installed\n",
      "  Core        : Package release 1  Thursday, April 12, 2018\n",
      "  Graphics    : Package release 1  Friday, December 1, 2017\n",
      "  Contrib     : Package release 2  Tuesday, May 15, 2018\n",
      "  bindir      : /opt/ciao-4.10/bin\n",
      "  Python path : /opt/ciao-4.10/ots/bin\n",
      "  CALDB       : Not installed\n",
      "\n",
      "CIAO Installation: LinuxUP3\n",
      "System information:\n",
      "Linux 364bd32418b5 4.15.0-22-generic #24-Ubuntu SMP Wed May 16 12:15:17 UTC 2018 x86_64 x86_64 x86_64 GNU/Linux\n"
     ]
    }
   ],
   "source": [
    "!ciaover -v"
   ]
  },
  {
   "cell_type": "markdown",
   "metadata": {},
   "source": [
    "What Python packages are available?"
   ]
  },
  {
   "cell_type": "code",
   "execution_count": 2,
   "metadata": {},
   "outputs": [
    {
     "name": "stdout",
     "output_type": "stream",
     "text": [
      "Package                            Version \r\n",
      "---------------------------------- --------\r\n",
      "altair                             2.1.0   \r\n",
      "APLpy                              1.1.1   \r\n",
      "astropy                            3.0.3   \r\n",
      "atomicwrites                       1.1.5   \r\n",
      "attrs                              18.1.0  \r\n",
      "backports.shutil-get-terminal-size 1.0.0   \r\n",
      "bash-kernel                        0.7.1   \r\n",
      "bleach                             2.1.3   \r\n",
      "caldb4                             0.1.0   \r\n",
      "cycler                             0.10.0  \r\n",
      "Cython                             0.25.2  \r\n",
      "decorator                          4.0.11  \r\n",
      "entrypoints                        0.2.3   \r\n",
      "enums                              0.0.2   \r\n",
      "funcsigs                           1.0.2   \r\n",
      "html5lib                           1.0.1   \r\n",
      "ipykernel                          4.8.2   \r\n",
      "ipython                            4.2.0   \r\n",
      "ipython-genutils                   0.2.0   \r\n",
      "ipywidgets                         7.2.1   \r\n",
      "Jinja2                             2.10    \r\n",
      "jsonschema                         2.6.0   \r\n",
      "jupyter                            1.0.0   \r\n",
      "jupyter-client                     5.2.3   \r\n",
      "jupyter-console                    5.2.0   \r\n",
      "jupyter-core                       4.4.0   \r\n",
      "kiwisolver                         1.0.1   \r\n",
      "MarkupSafe                         1.0     \r\n",
      "matplotlib                         2.2.2   \r\n",
      "mistune                            0.8.3   \r\n",
      "more-itertools                     4.2.0   \r\n",
      "nbconvert                          5.3.1   \r\n",
      "nbformat                           4.4.0   \r\n",
      "notebook                           5.5.0   \r\n",
      "numpy                              1.12.1  \r\n",
      "pandas                             0.23.0  \r\n",
      "pandocfilters                      1.4.2   \r\n",
      "pexpect                            4.2.1   \r\n",
      "pickleshare                        0.7.4   \r\n",
      "pip                                10.0.1  \r\n",
      "pixlib                             1.0.0   \r\n",
      "pluggy                             0.6.0   \r\n",
      "prompt-toolkit                     1.0.14  \r\n",
      "ptyprocess                         0.5.1   \r\n",
      "py                                 1.5.2   \r\n",
      "Pygments                           2.2.0   \r\n",
      "pyparsing                          2.2.0   \r\n",
      "pytest                             3.6.1   \r\n",
      "python-dateutil                    2.7.3   \r\n",
      "pytz                               2018.4  \r\n",
      "pyzmq                              17.0.0  \r\n",
      "qtconsole                          4.3.1   \r\n",
      "saba                               0.1     \r\n",
      "scipy                              1.1.0   \r\n",
      "Send2Trash                         1.5.0   \r\n",
      "setuptools                         20.6.7  \r\n",
      "sherpa                             ciao4.10\r\n",
      "simplegeneric                      0.8.1   \r\n",
      "six                                1.10.0  \r\n",
      "terminado                          0.8.1   \r\n",
      "testpath                           0.3.1   \r\n",
      "toolz                              0.9.0   \r\n",
      "tornado                            5.0.2   \r\n",
      "traitlets                          4.3.2   \r\n",
      "typing                             3.6.4   \r\n",
      "wcwidth                            0.1.7   \r\n",
      "webencodings                       0.5.1   \r\n",
      "widgetsnbextension                 3.2.1   \r\n"
     ]
    }
   ],
   "source": [
    "!pip3 list"
   ]
  },
  {
   "cell_type": "markdown",
   "metadata": {},
   "source": [
    "This Docker image does not contain ChIPS, so visualization is done with Matplotlib."
   ]
  },
  {
   "cell_type": "code",
   "execution_count": 3,
   "metadata": {},
   "outputs": [],
   "source": [
    "import matplotlib.pyplot as plt\n",
    "import numpy as np"
   ]
  },
  {
   "cell_type": "code",
   "execution_count": 4,
   "metadata": {},
   "outputs": [],
   "source": [
    "%matplotlib inline"
   ]
  },
  {
   "cell_type": "code",
   "execution_count": 5,
   "metadata": {},
   "outputs": [
    {
     "name": "stdout",
     "output_type": "stream",
     "text": [
      "2.2.2\n"
     ]
    }
   ],
   "source": [
    "import matplotlib\n",
    "print(matplotlib.__version__)"
   ]
  },
  {
   "cell_type": "markdown",
   "metadata": {},
   "source": [
    "What else can we import?"
   ]
  },
  {
   "cell_type": "code",
   "execution_count": 6,
   "metadata": {},
   "outputs": [
    {
     "name": "stdout",
     "output_type": "stream",
     "text": [
      "3.0.3\n"
     ]
    }
   ],
   "source": [
    "import astropy\n",
    "print(astropy.__version__)"
   ]
  },
  {
   "cell_type": "code",
   "execution_count": 7,
   "metadata": {},
   "outputs": [
    {
     "name": "stdout",
     "output_type": "stream",
     "text": [
      "1.1.0\n"
     ]
    }
   ],
   "source": [
    "import scipy\n",
    "print(scipy.__version__)"
   ]
  },
  {
   "cell_type": "code",
   "execution_count": 8,
   "metadata": {},
   "outputs": [],
   "source": [
    "import sherpa\n",
    "from sherpa.astro import xspec"
   ]
  },
  {
   "cell_type": "code",
   "execution_count": 9,
   "metadata": {},
   "outputs": [
    {
     "name": "stdout",
     "output_type": "stream",
     "text": [
      "ciao4.10\n",
      "12.9.1n\n"
     ]
    }
   ],
   "source": [
    "print(sherpa.__version__)\n",
    "print(xspec.get_xsversion())"
   ]
  },
  {
   "cell_type": "markdown",
   "metadata": {},
   "source": [
    "## CIAO examples\n",
    "\n",
    "Read in a file from the CIAO test suite:"
   ]
  },
  {
   "cell_type": "code",
   "execution_count": 10,
   "metadata": {},
   "outputs": [],
   "source": [
    "import pycrates"
   ]
  },
  {
   "cell_type": "code",
   "execution_count": 11,
   "metadata": {},
   "outputs": [
    {
     "name": "stdout",
     "output_type": "stream",
     "text": [
      "   Crate Type:        <TABLECrate>\n",
      "   Crate Name:        EVENTS\n",
      "   Ncols:             16\n",
      "   Nrows:             46021\n",
      "\n"
     ]
    }
   ],
   "source": [
    "cr = pycrates.read_file('/opt/ciao-4.10/test/smoke/data/acisf04425_000N003_evt1.fits')\n",
    "print(cr)"
   ]
  },
  {
   "cell_type": "code",
   "execution_count": 12,
   "metadata": {},
   "outputs": [
    {
     "data": {
      "text/plain": [
       "['time',\n",
       " 'ccd_id',\n",
       " 'node_id',\n",
       " 'expno',\n",
       " 'chip(chipx, chipy)',\n",
       " 'tdet(tdetx, tdety)',\n",
       " 'det(detx, dety)',\n",
       " 'sky(x, y)',\n",
       " 'phas',\n",
       " 'pha',\n",
       " 'pha_ro',\n",
       " 'energy',\n",
       " 'pi',\n",
       " 'fltgrade',\n",
       " 'grade',\n",
       " 'status']"
      ]
     },
     "execution_count": 12,
     "metadata": {},
     "output_type": "execute_result"
    }
   ],
   "source": [
    "cr.get_colnames()"
   ]
  },
  {
   "cell_type": "markdown",
   "metadata": {},
   "source": [
    "Let's try plotting a few columns. This Level 1 file happens to start with some events outside the main\n",
    "observation, and so have SKY values which are not \"sensible\" (i.e. are not within the standard 0 to 8192\n",
    "range for ACIS SKY coordinates):"
   ]
  },
  {
   "cell_type": "code",
   "execution_count": 13,
   "metadata": {},
   "outputs": [
    {
     "data": {
      "image/png": "[encoded data removed]",
      "text/plain": [
       "<Figure size 432x288 with 1 Axes>"
      ]
     },
     "metadata": {},
     "output_type": "display_data"
    }
   ],
   "source": [
    "sky = cr.sky.values\n",
    "plt.scatter(cr.time.values, sky[:, 0], alpha=0.1)\n",
    "plt.xlabel('TIME')\n",
    "plt.ylabel('X')\n",
    "plt.title(cr.get_filename());"
   ]
  },
  {
   "cell_type": "markdown",
   "metadata": {},
   "source": [
    "They can be filtered out:"
   ]
  },
  {
   "cell_type": "code",
   "execution_count": 14,
   "metadata": {},
   "outputs": [
    {
     "data": {
      "image/png": "[encoded data removed]",
      "text/plain": [
       "<Figure size 432x288 with 1 Axes>"
      ]
     },
     "metadata": {},
     "output_type": "display_data"
    }
   ],
   "source": [
    "idx = sky[:, 0] > 0\n",
    "\n",
    "plt.plot(cr.time.values[idx], sky[idx, 0], alpha=0.8)\n",
    "plt.xlabel('TIME')\n",
    "plt.ylabel('X');"
   ]
  },
  {
   "cell_type": "markdown",
   "metadata": {},
   "source": [
    "This turns out to be not too informative (other than to say that the events are well spread over the range 3400 to 4300!"
   ]
  },
  {
   "cell_type": "markdown",
   "metadata": {},
   "source": [
    "## How about a quick Sherpa fit?\n",
    "\n",
    "Note that the Sherpa configuration has been set up so that it uses matplotlib for plotting, so the\n",
    "Sherpa plots appear inline in this notebook."
   ]
  },
  {
   "cell_type": "code",
   "execution_count": 15,
   "metadata": {},
   "outputs": [],
   "source": [
    "from sherpa.astro import ui"
   ]
  },
  {
   "cell_type": "code",
   "execution_count": 16,
   "metadata": {},
   "outputs": [
    {
     "name": "stdout",
     "output_type": "stream",
     "text": [
      "read ARF file /opt/ciao-4.10/test/smoke/data/tools-specextract1.warf\n",
      "read RMF file /opt/ciao-4.10/test/smoke/data/tools-specextract1.wrmf\n"
     ]
    }
   ],
   "source": [
    "ui.load_pha(1, '/opt/ciao-4.10/test/smoke/data/tools-specextract1_grp.pi')"
   ]
  },
  {
   "cell_type": "code",
   "execution_count": 17,
   "metadata": {},
   "outputs": [
    {
     "data": {
      "image/png": "[encoded data removed]",
      "text/plain": [
       "<Figure size 432x288 with 1 Axes>"
      ]
     },
     "metadata": {},
     "output_type": "display_data"
    }
   ],
   "source": [
    "ui.plot_data()"
   ]
  },
  {
   "cell_type": "code",
   "execution_count": 18,
   "metadata": {},
   "outputs": [
    {
     "data": {
      "image/png": "[encoded data removed]",
      "text/plain": [
       "<Figure size 432x288 with 1 Axes>"
      ]
     },
     "metadata": {},
     "output_type": "display_data"
    }
   ],
   "source": [
    "ui.notice(0.5, 6)\n",
    "ui.plot_data()"
   ]
  },
  {
   "cell_type": "markdown",
   "metadata": {},
   "source": [
    "Note that the following fit uses an XSPEC model (`phabs`):"
   ]
  },
  {
   "cell_type": "code",
   "execution_count": 19,
   "metadata": {},
   "outputs": [],
   "source": [
    "ui.set_source(ui.xsphabs.gal * ui.powlaw1d.src)"
   ]
  },
  {
   "cell_type": "code",
   "execution_count": 20,
   "metadata": {},
   "outputs": [
    {
     "name": "stdout",
     "output_type": "stream",
     "text": [
      "Dataset               = 1\n",
      "Method                = levmar\n",
      "Statistic             = chi2datavar\n",
      "Initial fit statistic = 3.87435e+12\n",
      "Final fit statistic   = 15.8178 at function evaluation 282\n",
      "Data points           = 22\n",
      "Degrees of freedom    = 19\n",
      "Probability [Q-value] = 0.669401\n",
      "Reduced statistic     = 0.832513\n",
      "Change in statistic   = 3.87435e+12\n",
      "   gal.nH         0.00316085  \n",
      "   src.gamma      1.90654     \n",
      "   src.ampl       1.07332e-05 \n"
     ]
    }
   ],
   "source": [
    "ui.set_stat('chi2datavar')\n",
    "ui.fit()"
   ]
  },
  {
   "cell_type": "code",
   "execution_count": 21,
   "metadata": {},
   "outputs": [
    {
     "data": {
      "image/png": "[encoded data removed]",
      "text/plain": [
       "<Figure size 432x288 with 2 Axes>"
      ]
     },
     "metadata": {},
     "output_type": "display_data"
    }
   ],
   "source": [
    "ui.set_xlog()\n",
    "ui.plot_fit_resid()"
   ]
  },
  {
   "cell_type": "code",
   "execution_count": 22,
   "metadata": {},
   "outputs": [
    {
     "name": "stdout",
     "output_type": "stream",
     "text": [
      "gal.nH lower bound:\t-----\n",
      "gal.nH upper bound:\t0.0143198\n",
      "src.ampl lower bound:\t-7.75968e-07\n",
      "src.ampl upper bound:\t7.75639e-07\n",
      "src.gamma lower bound:\t-0.14084\n",
      "src.gamma upper bound:\t0.0931779\n",
      "Dataset               = 1\n",
      "Confidence Method     = confidence\n",
      "Iterative Fit Method  = None\n",
      "Fitting Method        = levmar\n",
      "Statistic             = chi2datavar\n",
      "confidence 1-sigma (68.2689%) bounds:\n",
      "   Param            Best-Fit  Lower Bound  Upper Bound\n",
      "   -----            --------  -----------  -----------\n",
      "   gal.nH         0.00316085        -----    0.0143198\n",
      "   src.gamma         1.90654     -0.14084    0.0931779\n",
      "   src.ampl      1.07332e-05 -7.75968e-07  7.75639e-07\n"
     ]
    }
   ],
   "source": [
    "ui.conf()"
   ]
  },
  {
   "cell_type": "code",
   "execution_count": 23,
   "metadata": {},
   "outputs": [
    {
     "data": {
      "image/png": "[encoded data removed]",
      "text/plain": [
       "<Figure size 432x288 with 1 Axes>"
      ]
     },
     "metadata": {},
     "output_type": "display_data"
    }
   ],
   "source": [
    "ui.reg_proj(src.gamma, gal.nh, min=(1.4, 0), max=(2.6, 0.15), nloop=(41, 41))"
   ]
  },
  {
   "cell_type": "code",
   "execution_count": null,
   "metadata": {},
   "outputs": [],
   "source": []
  }
 ],
 "metadata": {
  "kernelspec": {
   "display_name": "Python 3",
   "language": "python",
   "name": "python3"
  },
  "language_info": {
   "codemirror_mode": {
    "name": "ipython",
    "version": 3
   },
   "file_extension": ".py",
   "mimetype": "text/x-python",
   "name": "python",
   "nbconvert_exporter": "python",
   "pygments_lexer": "ipython3",
   "version": "3.5.4"
  }
 },
 "nbformat": 4,
 "nbformat_minor": 2
}
